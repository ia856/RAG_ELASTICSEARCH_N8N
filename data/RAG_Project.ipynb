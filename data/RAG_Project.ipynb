{
 "cells": [
  {
   "cell_type": "code",
   "execution_count": 1,
   "id": "475949c7-cc27-45e1-9590-f0e974141d56",
   "metadata": {},
   "outputs": [
    {
     "name": "stdout",
     "output_type": "stream",
     "text": [
      "Index(['bike_id', 'model', 'category1', 'category2', 'frame', 'price'], dtype='object')\n",
      "Index(['bikeshop_id', 'bikeshop_name', 'bikeshop_city', 'bikeshop_state',\n",
      "       'latitude', 'longitude'],\n",
      "      dtype='object')\n",
      "Index(['order_id', 'order_line', 'order_date', 'customer_id', 'product_id',\n",
      "       'bikeshop_id', 'quantity'],\n",
      "      dtype='object')\n",
      "Index(['CustomerKey', 'Prefix', 'FirstName', 'LastName', 'BirthDate',\n",
      "       'MaritalStatus', 'Gender', 'EmailAddress', 'AnnualIncome',\n",
      "       'TotalChildren', 'EducationLevel', 'Occupation', 'HomeOwner'],\n",
      "      dtype='object')\n"
     ]
    }
   ],
   "source": [
    "import pandas as pd\n",
    "\n",
    "bikes=pd.read_csv(\"bikes.csv\", sep=\";\")\n",
    "bikeshops=pd.read_csv(\"bikeshops.csv\", sep=\";\")\n",
    "orders=pd.read_csv(\"orders.csv\", sep=\";\")\n",
    "customers=pd.read_csv(\"Customers.csv\", sep=\";\")\n",
    "\n",
    "print(bikes.columns)\n",
    "print(bikeshops.columns)\n",
    "print(orders.columns)\n",
    "print(customers.columns)"
   ]
  },
  {
   "cell_type": "code",
   "execution_count": 2,
   "id": "80def8ea-4fa3-48e1-a851-66faa6ce701b",
   "metadata": {},
   "outputs": [
    {
     "data": {
      "text/html": [
       "<div>\n",
       "<style scoped>\n",
       "    .dataframe tbody tr th:only-of-type {\n",
       "        vertical-align: middle;\n",
       "    }\n",
       "\n",
       "    .dataframe tbody tr th {\n",
       "        vertical-align: top;\n",
       "    }\n",
       "\n",
       "    .dataframe thead th {\n",
       "        text-align: right;\n",
       "    }\n",
       "</style>\n",
       "<table border=\"1\" class=\"dataframe\">\n",
       "  <thead>\n",
       "    <tr style=\"text-align: right;\">\n",
       "      <th></th>\n",
       "      <th>bikeshop_id</th>\n",
       "      <th>bikeshop_name</th>\n",
       "      <th>bikeshop_city</th>\n",
       "      <th>bikeshop_state</th>\n",
       "      <th>latitude</th>\n",
       "      <th>longitude</th>\n",
       "    </tr>\n",
       "  </thead>\n",
       "  <tbody>\n",
       "    <tr>\n",
       "      <th>0</th>\n",
       "      <td>1</td>\n",
       "      <td>Pittsburgh Mountain Machines</td>\n",
       "      <td>Pittsburgh</td>\n",
       "      <td>PA</td>\n",
       "      <td>40,440625</td>\n",
       "      <td>-79,995886</td>\n",
       "    </tr>\n",
       "    <tr>\n",
       "      <th>1</th>\n",
       "      <td>2</td>\n",
       "      <td>Ithaca Mountain Climbers</td>\n",
       "      <td>Ithaca</td>\n",
       "      <td>NY</td>\n",
       "      <td>42,443961</td>\n",
       "      <td>-76,501881</td>\n",
       "    </tr>\n",
       "    <tr>\n",
       "      <th>2</th>\n",
       "      <td>3</td>\n",
       "      <td>Columbus Race Equipment</td>\n",
       "      <td>Columbus</td>\n",
       "      <td>OH</td>\n",
       "      <td>39,961176</td>\n",
       "      <td>-82,998794</td>\n",
       "    </tr>\n",
       "    <tr>\n",
       "      <th>3</th>\n",
       "      <td>4</td>\n",
       "      <td>Detroit Cycles</td>\n",
       "      <td>Detroit</td>\n",
       "      <td>MI</td>\n",
       "      <td>42,331427</td>\n",
       "      <td>-83,045754</td>\n",
       "    </tr>\n",
       "    <tr>\n",
       "      <th>4</th>\n",
       "      <td>5</td>\n",
       "      <td>Cincinnati Speed</td>\n",
       "      <td>Cincinnati</td>\n",
       "      <td>OH</td>\n",
       "      <td>39,103118</td>\n",
       "      <td>-84,51202</td>\n",
       "    </tr>\n",
       "  </tbody>\n",
       "</table>\n",
       "</div>"
      ],
      "text/plain": [
       "   bikeshop_id                 bikeshop_name bikeshop_city bikeshop_state  \\\n",
       "0            1  Pittsburgh Mountain Machines    Pittsburgh             PA   \n",
       "1            2      Ithaca Mountain Climbers        Ithaca             NY   \n",
       "2            3       Columbus Race Equipment      Columbus             OH   \n",
       "3            4                Detroit Cycles       Detroit             MI   \n",
       "4            5              Cincinnati Speed    Cincinnati             OH   \n",
       "\n",
       "    latitude   longitude  \n",
       "0  40,440625  -79,995886  \n",
       "1  42,443961  -76,501881  \n",
       "2  39,961176  -82,998794  \n",
       "3  42,331427  -83,045754  \n",
       "4  39,103118   -84,51202  "
      ]
     },
     "execution_count": 2,
     "metadata": {},
     "output_type": "execute_result"
    }
   ],
   "source": [
    "bikeshops.head()"
   ]
  },
  {
   "cell_type": "code",
   "execution_count": 8,
   "id": "550686e8-2cff-4a75-a0a1-7c8734d31233",
   "metadata": {},
   "outputs": [],
   "source": [
    "bikeshops[\"latitude\"]=bikeshops[\"latitude\"].str.replace(\",\",\".\").astype(float)\n",
    "bikeshops[\"longitude\"]=bikeshops[\"longitude\"].str.replace(\",\",\".\").astype(float)"
   ]
  },
  {
   "cell_type": "code",
   "execution_count": 10,
   "id": "58344398-6768-4f4f-9b16-bb0942920d70",
   "metadata": {},
   "outputs": [
    {
     "data": {
      "text/plain": [
       "bikeshop_id         int64\n",
       "bikeshop_name      object\n",
       "bikeshop_city      object\n",
       "bikeshop_state     object\n",
       "latitude          float64\n",
       "longitude         float64\n",
       "dtype: object"
      ]
     },
     "execution_count": 10,
     "metadata": {},
     "output_type": "execute_result"
    }
   ],
   "source": [
    "bikeshops.dtypes"
   ]
  },
  {
   "cell_type": "code",
   "execution_count": 11,
   "id": "dbc50fb4-bb3c-450c-b3ee-1b2a80d01af6",
   "metadata": {},
   "outputs": [
    {
     "data": {
      "text/plain": [
       "order_id        int64\n",
       "order_line      int64\n",
       "order_date     object\n",
       "customer_id     int64\n",
       "product_id      int64\n",
       "bikeshop_id     int64\n",
       "quantity        int64\n",
       "dtype: object"
      ]
     },
     "execution_count": 11,
     "metadata": {},
     "output_type": "execute_result"
    }
   ],
   "source": [
    "orders.dtypes"
   ]
  },
  {
   "cell_type": "code",
   "execution_count": 13,
   "id": "f71a956e-45b9-4db8-b7d5-2ffc3c76756e",
   "metadata": {},
   "outputs": [],
   "source": [
    "orders[\"order_date\"]=pd.to_datetime(orders[\"order_date\"])"
   ]
  },
  {
   "cell_type": "code",
   "execution_count": 14,
   "id": "8d75bb42-f5c9-4d71-b616-58ee74cff59a",
   "metadata": {},
   "outputs": [
    {
     "data": {
      "text/plain": [
       "order_id                int64\n",
       "order_line              int64\n",
       "order_date     datetime64[ns]\n",
       "customer_id             int64\n",
       "product_id              int64\n",
       "bikeshop_id             int64\n",
       "quantity                int64\n",
       "dtype: object"
      ]
     },
     "execution_count": 14,
     "metadata": {},
     "output_type": "execute_result"
    }
   ],
   "source": [
    "orders=orders[[\"order_id\", \"order_line\", \"order_date\", \"customer_id\", \"product_id\",\"bikeshop_id\", \"quantity\"]]\n",
    "orders.dtypes"
   ]
  },
  {
   "cell_type": "code",
   "execution_count": 15,
   "id": "a352051e-27e5-476d-8eb8-f58ee41d3ca9",
   "metadata": {},
   "outputs": [
    {
     "data": {
      "text/plain": [
       "CustomerKey        int64\n",
       "Prefix            object\n",
       "FirstName         object\n",
       "LastName          object\n",
       "BirthDate         object\n",
       "MaritalStatus     object\n",
       "Gender            object\n",
       "EmailAddress      object\n",
       "AnnualIncome       int64\n",
       "TotalChildren      int64\n",
       "EducationLevel    object\n",
       "Occupation        object\n",
       "HomeOwner         object\n",
       "dtype: object"
      ]
     },
     "execution_count": 15,
     "metadata": {},
     "output_type": "execute_result"
    }
   ],
   "source": [
    "customers.dtypes"
   ]
  },
  {
   "cell_type": "code",
   "execution_count": 16,
   "id": "e0dce0a8-27f6-4ba7-917b-69c170b936da",
   "metadata": {},
   "outputs": [
    {
     "data": {
      "text/plain": [
       "CustomerKey                int64\n",
       "FirstName                 object\n",
       "LastName                  object\n",
       "BirthDate         datetime64[ns]\n",
       "MaritalStatus             object\n",
       "Gender                    object\n",
       "AnnualIncome               int64\n",
       "TotalChildren              int64\n",
       "EducationLevel            object\n",
       "Occupation                object\n",
       "HomeOwner                 object\n",
       "dtype: object"
      ]
     },
     "execution_count": 16,
     "metadata": {},
     "output_type": "execute_result"
    }
   ],
   "source": [
    "customers[\"BirthDate\"]=pd.to_datetime(customers[\"BirthDate\"], format='mixed', dayfirst=True)\n",
    "customers=customers[[\"CustomerKey\",\t\"FirstName\", \"LastName\", \"BirthDate\", \"MaritalStatus\", \"Gender\", \"AnnualIncome\", \"TotalChildren\", \"EducationLevel\", \"Occupation\", \"HomeOwner\"]]\n",
    "customers.dtypes"
   ]
  },
  {
   "cell_type": "code",
   "execution_count": 17,
   "id": "8c96d6cb-8f8a-485b-a4d3-b992eb06f885",
   "metadata": {},
   "outputs": [],
   "source": [
    "# Supprimer les doublons\n",
    "bikes.drop_duplicates(inplace=True)\n",
    "bikeshops.drop_duplicates(inplace=True)\n",
    "orders.drop_duplicates(inplace=True)\n",
    "customers.drop_duplicates(inplace=True)\n",
    "\n",
    "# Supprimer les lignes avec trop de valeurs manquantes (ex: plus de 30% de colonnes vides)\n",
    "bikes.dropna(thresh=int(0.7 * bikes.shape[1]), inplace=True)\n",
    "bikeshops.dropna(thresh=int(0.7 * bikeshops.shape[1]), inplace=True)\n",
    "orders.dropna(thresh=int(0.7 * orders.shape[1]), inplace=True)\n",
    "customers.dropna(thresh=int(0.7 * customers.shape[1]), inplace=True)\n"
   ]
  },
  {
   "cell_type": "code",
   "execution_count": 18,
   "id": "cf27a07f-b053-4aff-9e20-22016b01854f",
   "metadata": {},
   "outputs": [],
   "source": [
    "# Joindre les vélos avec les commandes\n",
    "orders = orders.merge(bikes, left_on=\"product_id\", right_on=\"bike_id\", how=\"left\")\n",
    "\n",
    "# Joindre les clients aux commandes\n",
    "orders = orders.merge(customers, left_on=\"customer_id\", right_on=\"CustomerKey\", how=\"left\")\n",
    "\n",
    "# Joindre les magasins aux commandes\n",
    "orders = orders.merge(bikeshops, left_on=\"bikeshop_id\", right_on=\"bikeshop_id\", how=\"left\")\n",
    "\n",
    "# Supprimer ou renommer les colonnes redondantes\n",
    "orders = orders.drop(columns=[\"bike_id\", \"CustomerKey\"])  # ou .rename si tu veux garder les données\n",
    "\n"
   ]
  },
  {
   "cell_type": "code",
   "execution_count": 19,
   "id": "55669179-39dc-4b42-9a36-fd3e5f832a42",
   "metadata": {},
   "outputs": [
    {
     "data": {
      "text/plain": [
       "(15644, 27)"
      ]
     },
     "execution_count": 19,
     "metadata": {},
     "output_type": "execute_result"
    }
   ],
   "source": [
    "orders.shape"
   ]
  },
  {
   "cell_type": "code",
   "execution_count": 20,
   "id": "730f2749-ac01-4740-8408-61ef93fc487d",
   "metadata": {},
   "outputs": [
    {
     "data": {
      "text/html": [
       "<div>\n",
       "<style scoped>\n",
       "    .dataframe tbody tr th:only-of-type {\n",
       "        vertical-align: middle;\n",
       "    }\n",
       "\n",
       "    .dataframe tbody tr th {\n",
       "        vertical-align: top;\n",
       "    }\n",
       "\n",
       "    .dataframe thead th {\n",
       "        text-align: right;\n",
       "    }\n",
       "</style>\n",
       "<table border=\"1\" class=\"dataframe\">\n",
       "  <thead>\n",
       "    <tr style=\"text-align: right;\">\n",
       "      <th></th>\n",
       "      <th>order_id</th>\n",
       "      <th>order_line</th>\n",
       "      <th>order_date</th>\n",
       "      <th>customer_id</th>\n",
       "      <th>product_id</th>\n",
       "      <th>bikeshop_id</th>\n",
       "      <th>quantity</th>\n",
       "      <th>model</th>\n",
       "      <th>category1</th>\n",
       "      <th>category2</th>\n",
       "      <th>...</th>\n",
       "      <th>AnnualIncome</th>\n",
       "      <th>TotalChildren</th>\n",
       "      <th>EducationLevel</th>\n",
       "      <th>Occupation</th>\n",
       "      <th>HomeOwner</th>\n",
       "      <th>bikeshop_name</th>\n",
       "      <th>bikeshop_city</th>\n",
       "      <th>bikeshop_state</th>\n",
       "      <th>latitude</th>\n",
       "      <th>longitude</th>\n",
       "    </tr>\n",
       "  </thead>\n",
       "  <tbody>\n",
       "    <tr>\n",
       "      <th>0</th>\n",
       "      <td>1</td>\n",
       "      <td>1</td>\n",
       "      <td>2011-01-07</td>\n",
       "      <td>2</td>\n",
       "      <td>48</td>\n",
       "      <td>7</td>\n",
       "      <td>1</td>\n",
       "      <td>Jekyll Carbon 2</td>\n",
       "      <td>Mountain</td>\n",
       "      <td>Over Mountain</td>\n",
       "      <td>...</td>\n",
       "      <td>60000</td>\n",
       "      <td>2</td>\n",
       "      <td>Master's</td>\n",
       "      <td>Doctor</td>\n",
       "      <td>No</td>\n",
       "      <td>Nashville Cruisers</td>\n",
       "      <td>Nashville</td>\n",
       "      <td>TN</td>\n",
       "      <td>36.162664</td>\n",
       "      <td>-86.781602</td>\n",
       "    </tr>\n",
       "    <tr>\n",
       "      <th>1</th>\n",
       "      <td>1</td>\n",
       "      <td>2</td>\n",
       "      <td>2011-01-07</td>\n",
       "      <td>2</td>\n",
       "      <td>52</td>\n",
       "      <td>26</td>\n",
       "      <td>1</td>\n",
       "      <td>Trigger Carbon 2</td>\n",
       "      <td>Mountain</td>\n",
       "      <td>Over Mountain</td>\n",
       "      <td>...</td>\n",
       "      <td>60000</td>\n",
       "      <td>2</td>\n",
       "      <td>Master's</td>\n",
       "      <td>Doctor</td>\n",
       "      <td>No</td>\n",
       "      <td>Miami Race Equipment</td>\n",
       "      <td>Miami</td>\n",
       "      <td>FL</td>\n",
       "      <td>25.761680</td>\n",
       "      <td>-80.191790</td>\n",
       "    </tr>\n",
       "    <tr>\n",
       "      <th>2</th>\n",
       "      <td>2</td>\n",
       "      <td>1</td>\n",
       "      <td>2011-01-10</td>\n",
       "      <td>10</td>\n",
       "      <td>76</td>\n",
       "      <td>17</td>\n",
       "      <td>1</td>\n",
       "      <td>Beast of the East 1</td>\n",
       "      <td>Mountain</td>\n",
       "      <td>Trail</td>\n",
       "      <td>...</td>\n",
       "      <td>46000</td>\n",
       "      <td>1</td>\n",
       "      <td>Associate's</td>\n",
       "      <td>Engineer</td>\n",
       "      <td>Yes</td>\n",
       "      <td>Las Vegas Cycles</td>\n",
       "      <td>Las Vegas</td>\n",
       "      <td>NV</td>\n",
       "      <td>36.169941</td>\n",
       "      <td>-115.139830</td>\n",
       "    </tr>\n",
       "    <tr>\n",
       "      <th>3</th>\n",
       "      <td>2</td>\n",
       "      <td>2</td>\n",
       "      <td>2011-01-10</td>\n",
       "      <td>10</td>\n",
       "      <td>52</td>\n",
       "      <td>1</td>\n",
       "      <td>1</td>\n",
       "      <td>Trigger Carbon 2</td>\n",
       "      <td>Mountain</td>\n",
       "      <td>Over Mountain</td>\n",
       "      <td>...</td>\n",
       "      <td>46000</td>\n",
       "      <td>1</td>\n",
       "      <td>Associate's</td>\n",
       "      <td>Engineer</td>\n",
       "      <td>Yes</td>\n",
       "      <td>Pittsburgh Mountain Machines</td>\n",
       "      <td>Pittsburgh</td>\n",
       "      <td>PA</td>\n",
       "      <td>40.440625</td>\n",
       "      <td>-79.995886</td>\n",
       "    </tr>\n",
       "    <tr>\n",
       "      <th>4</th>\n",
       "      <td>3</td>\n",
       "      <td>1</td>\n",
       "      <td>2011-01-10</td>\n",
       "      <td>6</td>\n",
       "      <td>2</td>\n",
       "      <td>7</td>\n",
       "      <td>1</td>\n",
       "      <td>Supersix Evo Hi-Mod Team</td>\n",
       "      <td>Road</td>\n",
       "      <td>Elite Road</td>\n",
       "      <td>...</td>\n",
       "      <td>32000</td>\n",
       "      <td>0</td>\n",
       "      <td>Associate's</td>\n",
       "      <td>Student</td>\n",
       "      <td>No</td>\n",
       "      <td>Nashville Cruisers</td>\n",
       "      <td>Nashville</td>\n",
       "      <td>TN</td>\n",
       "      <td>36.162664</td>\n",
       "      <td>-86.781602</td>\n",
       "    </tr>\n",
       "  </tbody>\n",
       "</table>\n",
       "<p>5 rows × 27 columns</p>\n",
       "</div>"
      ],
      "text/plain": [
       "   order_id  order_line order_date  customer_id  product_id  bikeshop_id  \\\n",
       "0         1           1 2011-01-07            2          48            7   \n",
       "1         1           2 2011-01-07            2          52           26   \n",
       "2         2           1 2011-01-10           10          76           17   \n",
       "3         2           2 2011-01-10           10          52            1   \n",
       "4         3           1 2011-01-10            6           2            7   \n",
       "\n",
       "   quantity                     model category1      category2  ...  \\\n",
       "0         1           Jekyll Carbon 2  Mountain  Over Mountain  ...   \n",
       "1         1          Trigger Carbon 2  Mountain  Over Mountain  ...   \n",
       "2         1       Beast of the East 1  Mountain          Trail  ...   \n",
       "3         1          Trigger Carbon 2  Mountain  Over Mountain  ...   \n",
       "4         1  Supersix Evo Hi-Mod Team      Road     Elite Road  ...   \n",
       "\n",
       "  AnnualIncome  TotalChildren EducationLevel Occupation HomeOwner  \\\n",
       "0        60000              2       Master's     Doctor        No   \n",
       "1        60000              2       Master's     Doctor        No   \n",
       "2        46000              1    Associate's   Engineer       Yes   \n",
       "3        46000              1    Associate's   Engineer       Yes   \n",
       "4        32000              0    Associate's    Student        No   \n",
       "\n",
       "                  bikeshop_name bikeshop_city  bikeshop_state   latitude  \\\n",
       "0            Nashville Cruisers     Nashville              TN  36.162664   \n",
       "1          Miami Race Equipment         Miami              FL  25.761680   \n",
       "2              Las Vegas Cycles     Las Vegas              NV  36.169941   \n",
       "3  Pittsburgh Mountain Machines    Pittsburgh              PA  40.440625   \n",
       "4            Nashville Cruisers     Nashville              TN  36.162664   \n",
       "\n",
       "    longitude  \n",
       "0  -86.781602  \n",
       "1  -80.191790  \n",
       "2 -115.139830  \n",
       "3  -79.995886  \n",
       "4  -86.781602  \n",
       "\n",
       "[5 rows x 27 columns]"
      ]
     },
     "execution_count": 20,
     "metadata": {},
     "output_type": "execute_result"
    }
   ],
   "source": [
    "orders.head()"
   ]
  },
  {
   "cell_type": "code",
   "execution_count": 21,
   "id": "ef1c125b-4db4-403a-99a2-8fbf20142b88",
   "metadata": {},
   "outputs": [
    {
     "data": {
      "text/plain": [
       "0         6070\n",
       "1         5970\n",
       "2         2770\n",
       "3         5970\n",
       "4        10660\n",
       "         ...  \n",
       "15639     2660\n",
       "15640     1350\n",
       "15641     1680\n",
       "15642     2880\n",
       "15643     3200\n",
       "Name: ventes, Length: 15644, dtype: int64"
      ]
     },
     "execution_count": 21,
     "metadata": {},
     "output_type": "execute_result"
    }
   ],
   "source": [
    "orders[\"ventes\"]= orders[\"price\"]*orders[\"quantity\"]\n",
    "orders[\"ventes\"]"
   ]
  },
  {
   "cell_type": "code",
   "execution_count": 22,
   "id": "039b94f1-7763-4308-b841-1097c111f431",
   "metadata": {},
   "outputs": [
    {
     "data": {
      "text/plain": [
       "order_id                   int64\n",
       "order_line                 int64\n",
       "order_date        datetime64[ns]\n",
       "customer_id                int64\n",
       "product_id                 int64\n",
       "bikeshop_id                int64\n",
       "quantity                   int64\n",
       "model                     object\n",
       "category1                 object\n",
       "category2                 object\n",
       "frame                     object\n",
       "price                      int64\n",
       "FirstName                 object\n",
       "LastName                  object\n",
       "BirthDate         datetime64[ns]\n",
       "MaritalStatus             object\n",
       "Gender                    object\n",
       "AnnualIncome               int64\n",
       "TotalChildren              int64\n",
       "EducationLevel            object\n",
       "Occupation                object\n",
       "HomeOwner                 object\n",
       "bikeshop_name             object\n",
       "bikeshop_city             object\n",
       "bikeshop_state            object\n",
       "latitude                 float64\n",
       "longitude                float64\n",
       "ventes                     int64\n",
       "dtype: object"
      ]
     },
     "execution_count": 22,
     "metadata": {},
     "output_type": "execute_result"
    }
   ],
   "source": [
    "orders.dtypes"
   ]
  },
  {
   "cell_type": "code",
   "execution_count": 23,
   "id": "13d7b8f7-f39f-427f-9ccf-8cdc0cb70425",
   "metadata": {},
   "outputs": [],
   "source": [
    "# Sauvegarde des données propres\n",
    "orders.to_csv(\"orders_cleaned.csv\", index=False)\n"
   ]
  },
  {
   "cell_type": "code",
   "execution_count": 35,
   "id": "3421b972-6e6d-4d41-a029-326e5cf33f74",
   "metadata": {},
   "outputs": [
    {
     "data": {
      "text/plain": [
       "bikeshop_state\n",
       "TX    1636\n",
       "FL    1086\n",
       "NY    1075\n",
       "PA    1034\n",
       "CA    1029\n",
       "MI    1024\n",
       "OH     998\n",
       "KS     994\n",
       "AZ     556\n",
       "MN     538\n",
       "KY     533\n",
       "NM     533\n",
       "OK     532\n",
       "RI     529\n",
       "NV     526\n",
       "CO     513\n",
       "LA     507\n",
       "OR     505\n",
       "TN     505\n",
       "IN     496\n",
       "WA     495\n",
       "Name: count, dtype: int64"
      ]
     },
     "execution_count": 35,
     "metadata": {},
     "output_type": "execute_result"
    }
   ],
   "source": [
    "orders[\"bikeshop_state\"].value_counts()"
   ]
  },
  {
   "cell_type": "code",
   "execution_count": null,
   "id": "70cb450e-1815-4205-9597-6a06bb3b7284",
   "metadata": {},
   "outputs": [],
   "source": []
  }
 ],
 "metadata": {
  "kernelspec": {
   "display_name": "Python 3 (ipykernel)",
   "language": "python",
   "name": "python3"
  },
  "language_info": {
   "codemirror_mode": {
    "name": "ipython",
    "version": 3
   },
   "file_extension": ".py",
   "mimetype": "text/x-python",
   "name": "python",
   "nbconvert_exporter": "python",
   "pygments_lexer": "ipython3",
   "version": "3.12.7"
  }
 },
 "nbformat": 4,
 "nbformat_minor": 5
}
